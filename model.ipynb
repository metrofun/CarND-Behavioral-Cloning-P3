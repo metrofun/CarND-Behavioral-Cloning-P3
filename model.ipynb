{
 "cells": [
  {
   "cell_type": "code",
   "execution_count": 1,
   "metadata": {},
   "outputs": [
    {
     "data": {
      "text/plain": [
       "[['/Users/metrofun/Downloads/IMG/center_2019_04_08_23_47_53_973.jpg',\n",
       "  ' /Users/metrofun/Downloads/IMG/left_2019_04_08_23_47_53_973.jpg',\n",
       "  ' /Users/metrofun/Downloads/IMG/right_2019_04_08_23_47_53_973.jpg',\n",
       "  '0.0',\n",
       "  '0.0',\n",
       "  '0',\n",
       "  '5.7192'],\n",
       " ['/Users/metrofun/Downloads/IMG/center_2019_04_08_23_47_54_079.jpg',\n",
       "  ' /Users/metrofun/Downloads/IMG/left_2019_04_08_23_47_54_079.jpg',\n",
       "  ' /Users/metrofun/Downloads/IMG/right_2019_04_08_23_47_54_079.jpg',\n",
       "  '0.0',\n",
       "  '0.0',\n",
       "  '0',\n",
       "  '5.659069000000001'],\n",
       " ['/Users/metrofun/Downloads/IMG/center_2019_04_08_23_47_54_193.jpg',\n",
       "  ' /Users/metrofun/Downloads/IMG/left_2019_04_08_23_47_54_193.jpg',\n",
       "  ' /Users/metrofun/Downloads/IMG/right_2019_04_08_23_47_54_193.jpg',\n",
       "  '0.0',\n",
       "  '0.0',\n",
       "  '0',\n",
       "  '5.587722'],\n",
       " ['/Users/metrofun/Downloads/IMG/center_2019_04_08_23_47_54_304.jpg',\n",
       "  ' /Users/metrofun/Downloads/IMG/left_2019_04_08_23_47_54_304.jpg',\n",
       "  ' /Users/metrofun/Downloads/IMG/right_2019_04_08_23_47_54_304.jpg',\n",
       "  '0.0',\n",
       "  '0.0',\n",
       "  '0',\n",
       "  '5.528936'],\n",
       " ['/Users/metrofun/Downloads/IMG/center_2019_04_08_23_47_54_411.jpg',\n",
       "  ' /Users/metrofun/Downloads/IMG/left_2019_04_08_23_47_54_411.jpg',\n",
       "  ' /Users/metrofun/Downloads/IMG/right_2019_04_08_23_47_54_411.jpg',\n",
       "  '0.0',\n",
       "  '0.0',\n",
       "  '0',\n",
       "  '5.459188']]"
      ]
     },
     "execution_count": 1,
     "metadata": {},
     "output_type": "execute_result"
    }
   ],
   "source": [
    "import os\n",
    "import csv\n",
    "\n",
    "samples = []\n",
    "with open('./driving_log.csv') as csvfile:\n",
    "    reader = csv.reader(csvfile)\n",
    "    for line in reader:\n",
    "        samples.append(line)\n",
    "samples[:5]"
   ]
  },
  {
   "cell_type": "code",
   "execution_count": 2,
   "metadata": {},
   "outputs": [
    {
     "name": "stderr",
     "output_type": "stream",
     "text": [
      "Using TensorFlow backend.\n"
     ]
    }
   ],
   "source": [
    "from keras.preprocessing import image\n",
    "\n",
    "def process_image(path):\n",
    "    img = image.load_img(path.strip())\n",
    "    return image.img_to_array(img)"
   ]
  },
  {
   "cell_type": "code",
   "execution_count": 3,
   "metadata": {},
   "outputs": [],
   "source": [
    "from sklearn.model_selection import train_test_split\n",
    "train_samples, validation_samples = train_test_split(samples, test_size=0.2)"
   ]
  },
  {
   "cell_type": "code",
   "execution_count": 4,
   "metadata": {},
   "outputs": [],
   "source": [
    "import cv2\n",
    "import numpy as np\n",
    "import sklearn\n",
    "from sklearn.utils import shuffle\n",
    "\n",
    "def generator(samples, batch_size=32):\n",
    "    num_samples = len(samples)\n",
    "    while 1: # Loop forever so the generator never terminates\n",
    "        shuffle(samples)\n",
    "        for offset in range(0, num_samples, batch_size):\n",
    "            batch_samples = samples[offset:offset+batch_size]\n",
    "\n",
    "            images = []\n",
    "            angles = []\n",
    "            for batch_sample in batch_samples:\n",
    "                try:\n",
    "                    steering_center = float(batch_sample[3])\n",
    "                except Exception as e:\n",
    "                    print(steering_center)\n",
    "                    print(e)\n",
    "                    continue\n",
    "                # create adjusted steering measurements for the side camera images\n",
    "                correction = 0.3 # this is a parameter to tune\n",
    "                steering_left = steering_center + correction\n",
    "                steering_right = steering_center - correction\n",
    "\n",
    "                # read in images from center, left and right cameras\n",
    "                try:\n",
    "                    img_center = process_image(batch_sample[0])\n",
    "                    img_left = process_image(batch_sample[1])\n",
    "                    img_right = process_image(batch_sample[2])\n",
    "                except Exception as e:\n",
    "                    print(e)\n",
    "                    continue\n",
    "\n",
    "                # add images and angles to data set\n",
    "                images.extend((img_center, img_left, img_right))\n",
    "                angles.extend((steering_center, steering_left, steering_right))\n",
    "                \n",
    "                images.extend((np.fliplr(img_center), np.fliplr(img_left), np.fliplr(img_right)))\n",
    "                angles.extend((-steering_center, -steering_left, -steering_right))\n",
    "                \n",
    "\n",
    "            #TODO trim image to only see section with road\n",
    "            X_train = np.array(images)\n",
    "            y_train = np.array(angles)\n",
    "            yield shuffle(X_train, y_train)"
   ]
  },
  {
   "cell_type": "code",
   "execution_count": 5,
   "metadata": {},
   "outputs": [],
   "source": [
    "from keras.layers import Input, Embedding, Lambda, Dense, BatchNormalization, Activation, Conv2D, Flatten, Cropping2D\n",
    "from keras.models import Sequential\n",
    "\n",
    "def build_model(nrows, ncols):\n",
    "    model = Sequential()\n",
    "    model.add(Lambda(lambda x: x/127.5 - 1., input_shape=(160, 320, 3)))\n",
    "    model.add(Cropping2D(cropping=((60, 20), (0, 0)), data_format='channels_last'))\n",
    "    model.add(Conv2D(24, (5,5), activation='relu', strides=(2,2)))\n",
    "    model.add(Conv2D(36, (5,5), activation='relu', strides=(2,2)))\n",
    "    model.add(Conv2D(48, (5,5), activation='relu', strides=(2,2)))\n",
    "    model.add(Conv2D(64, (3,3), activation='relu', strides=(1,1)))\n",
    "    model.add(Conv2D(64, (3,3), activation='relu', strides=(1,1)))\n",
    "    model.add(Flatten())\n",
    "    model.add(Dense(100, activation='relu'))\n",
    "    model.add(Dense(50, activation='relu'))\n",
    "    model.add(Dense(10, activation='relu'))\n",
    "    model.add(Dense(1, activation='tanh'))\n",
    "    return model"
   ]
  },
  {
   "cell_type": "code",
   "execution_count": 6,
   "metadata": {},
   "outputs": [],
   "source": [
    "# Set our batch size\n",
    "batch_size=32\n",
    "\n",
    "# compile and train the model using the generator function\n",
    "train_generator = generator(train_samples, batch_size=batch_size)\n",
    "validation_generator = generator(validation_samples, batch_size=batch_size)"
   ]
  },
  {
   "cell_type": "code",
   "execution_count": 7,
   "metadata": {},
   "outputs": [],
   "source": [
    "from math import ceil\n",
    "from keras.callbacks import ModelCheckpoint\n",
    "\n",
    "ch, row, col = 3, 80, 320  # Trimmed image format\n",
    "\n",
    "model = build_model(row, col)"
   ]
  },
  {
   "cell_type": "code",
   "execution_count": 8,
   "metadata": {},
   "outputs": [],
   "source": [
    "from keras.utils.vis_utils import plot_model\n",
    "\n",
    "plot_model(model, to_file='model_plot.png', show_shapes=True, show_layer_names=True)"
   ]
  },
  {
   "cell_type": "code",
   "execution_count": 9,
   "metadata": {},
   "outputs": [
    {
     "name": "stdout",
     "output_type": "stream",
     "text": [
      "Epoch 1/10\n",
      "14/14 [==============================] - 32s 2s/step - loss: 0.0944 - val_loss: 0.0756\n",
      "\n",
      "Epoch 00001: saving model to ./weights-001-val_loss-0.07557.hdf5\n",
      "Epoch 2/10\n",
      "14/14 [==============================] - 31s 2s/step - loss: 0.0743 - val_loss: 0.0662\n",
      "\n",
      "Epoch 00002: saving model to ./weights-002-val_loss-0.06618.hdf5\n",
      "Epoch 3/10\n",
      "14/14 [==============================] - 32s 2s/step - loss: 0.0677 - val_loss: 0.0665\n",
      "\n",
      "Epoch 00003: saving model to ./weights-003-val_loss-0.06648.hdf5\n",
      "Epoch 4/10\n",
      "14/14 [==============================] - 33s 2s/step - loss: 0.0615 - val_loss: 0.0598\n",
      "\n",
      "Epoch 00004: saving model to ./weights-004-val_loss-0.05985.hdf5\n",
      "Epoch 5/10\n",
      "14/14 [==============================] - 32s 2s/step - loss: 0.0544 - val_loss: 0.0604\n",
      "\n",
      "Epoch 00005: saving model to ./weights-005-val_loss-0.06038.hdf5\n",
      "Epoch 6/10\n",
      "14/14 [==============================] - 32s 2s/step - loss: 0.0499 - val_loss: 0.0556\n",
      "\n",
      "Epoch 00006: saving model to ./weights-006-val_loss-0.05563.hdf5\n",
      "Epoch 7/10\n",
      "14/14 [==============================] - 31s 2s/step - loss: 0.0432 - val_loss: 0.0543\n",
      "\n",
      "Epoch 00007: saving model to ./weights-007-val_loss-0.05432.hdf5\n",
      "Epoch 8/10\n",
      "14/14 [==============================] - 32s 2s/step - loss: 0.0375 - val_loss: 0.0558\n",
      "\n",
      "Epoch 00008: saving model to ./weights-008-val_loss-0.05584.hdf5\n",
      "Epoch 9/10\n",
      "14/14 [==============================] - 31s 2s/step - loss: 0.0336 - val_loss: 0.0503\n",
      "\n",
      "Epoch 00009: saving model to ./weights-009-val_loss-0.05033.hdf5\n",
      "Epoch 10/10\n",
      "14/14 [==============================] - 30s 2s/step - loss: 0.0282 - val_loss: 0.0482\n",
      "\n",
      "Epoch 00010: saving model to ./weights-010-val_loss-0.04821.hdf5\n"
     ]
    },
    {
     "data": {
      "text/plain": [
       "<keras.callbacks.History at 0x1a273b88d0>"
      ]
     },
     "execution_count": 9,
     "metadata": {},
     "output_type": "execute_result"
    }
   ],
   "source": [
    "save_path = './weights-{epoch:03d}-val_loss-{val_loss:.5f}.hdf5'\n",
    "checkpoint = ModelCheckpoint(save_path, monitor='val_loss', verbose=1, save_best_only=False, mode='min')\n",
    "callbacks_list = [checkpoint]\n",
    "\n",
    "model.compile(loss='mse', optimizer='adam')\n",
    "model.fit_generator(train_generator, \\\n",
    "            steps_per_epoch=ceil(len(train_samples)/batch_size), \\\n",
    "            validation_data=validation_generator, \\\n",
    "            validation_steps=ceil(len(validation_samples)/batch_size), \\\n",
    "            callbacks=callbacks_list, \\\n",
    "            epochs=10, verbose=1)"
   ]
  }
 ],
 "metadata": {
  "kernelspec": {
   "display_name": "Python 3",
   "language": "python",
   "name": "python3"
  },
  "language_info": {
   "codemirror_mode": {
    "name": "ipython",
    "version": 3
   },
   "file_extension": ".py",
   "mimetype": "text/x-python",
   "name": "python",
   "nbconvert_exporter": "python",
   "pygments_lexer": "ipython3",
   "version": "3.5.2"
  },
  "widgets": {
   "state": {},
   "version": "1.1.2"
  }
 },
 "nbformat": 4,
 "nbformat_minor": 2
}
